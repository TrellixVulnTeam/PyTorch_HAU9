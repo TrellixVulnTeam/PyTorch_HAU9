{
 "cells": [
  {
   "cell_type": "markdown",
   "metadata": {},
   "source": [
    "# Logistic Regression"
   ]
  },
  {
   "cell_type": "markdown",
   "metadata": {},
   "source": [
    "### Logistic Regression Basic\n",
    "* Classfication Algorithm\n",
    "    * Example: Spam vs no spam\n",
    "        * Input: Bunch of words\n",
    "        * Output: Probability spam or not spam  \n",
    "          \n",
    "          \n",
    "* Basic Comparison\n",
    "    * Linear Regression\n",
    "        * Output: numeric value given inputs\n",
    "    * Logistic Regression\n",
    "        * Output: probability [0,1] given input belonging to a class\n",
    "            \n",
    "            \n",
    "* Input/Output comparison\n"
   ]
  },
  {
   "cell_type": "code",
   "execution_count": null,
   "metadata": {},
   "outputs": [],
   "source": []
  }
 ],
 "metadata": {
  "kernelspec": {
   "display_name": "Python 3",
   "language": "python",
   "name": "python3"
  },
  "language_info": {
   "codemirror_mode": {
    "name": "ipython",
    "version": 3
   },
   "file_extension": ".py",
   "mimetype": "text/x-python",
   "name": "python",
   "nbconvert_exporter": "python",
   "pygments_lexer": "ipython3",
   "version": "3.7.3"
  }
 },
 "nbformat": 4,
 "nbformat_minor": 2
}
